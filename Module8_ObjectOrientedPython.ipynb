{
 "cells": [
  {
   "cell_type": "markdown",
   "metadata": {},
   "source": [
    "# Python Programming\n",
    "\n",
    "**Module 8 : Classes and Objects in Python** \n",
    "\n",
    "Python is a fun language to learn, and really easy to pick up even if you are new to programming. In fact, quite often, Python is easier to pick up if you do not have any programming experience whatsoever. Python is high level programming language, targeted at students and professionals from diverse backgrounds.\n",
    "\n",
    "Python has two flavors -- Python 2 and Python 3. This set of examples are in Python 3, written and executed in the beautifully simple IDE Jupyter Notebook. Note that Jupyter has set up a `localhost:8888` server to render the notebook in your computer's browser. It can render anything now! Once you are familiar with the basic programming style and concepts of Python presented in this page, feel free to explore the other Modules in this repository.\n",
    "\n",
    "This material is heavilly inspired by two wonderful lecture series in Python -- [Python4Maths by Andreas Ernst](https://gitlab.erc.monash.edu.au/andrease/Python4Maths) and [Python Lectures by Rajath Kumar](https://github.com/rajathkmp/Python-Lectures)\n",
    "\n",
    "**License Declaration** : Following the lead from the inspirations for this material, and the *spirit* of Python education and development, all modules of this work are licensed under the Creative Commons Attribution 3.0 Unported License. To view a copy of this license, visit http://creativecommons.org/licenses/by/3.0/.\n",
    "\n",
    "---"
   ]
  },
  {
   "cell_type": "markdown",
   "metadata": {},
   "source": [
    "## Object Oriented Programming\n",
    "\n",
    "Object-oriented programming (OOP) is a programming paradigm based on the concept of `objects`, which can contain data, in the form of `attributes`, and functions, in the form of `methods`. The `methods` in an object can access and often modify the internal `attributes`. A `class` provides a template to create an `object`, and an `object` is a concrete instantiation of a `class`. Python is inherently an object-oriented language; everything is an `object`!"
   ]
  },
  {
   "cell_type": "code",
   "execution_count": 1,
   "metadata": {},
   "outputs": [
    {
     "name": "stdout",
     "output_type": "stream",
     "text": [
      "3 is of type <class 'int'>\n",
      "(2+3j) is of type <class 'complex'>\n",
      "Sourav is of type <class 'str'>\n",
      "True is of type <class 'bool'>\n"
     ]
    }
   ],
   "source": [
    "# Recall : Basic Data Types\n",
    "print(3, \"is of type\", type(3))\n",
    "print(2 + 3j, \"is of type\", type(2 + 3j))\n",
    "print(\"Sourav\", \"is of type\", type(\"Sourav\"))\n",
    "print(True, \"is of type\", type(True))"
   ]
  },
  {
   "cell_type": "code",
   "execution_count": 2,
   "metadata": {},
   "outputs": [
    {
     "name": "stdout",
     "output_type": "stream",
     "text": [
      "[2, 3] is of type <class 'list'>\n",
      "(2, 3) is of type <class 'tuple'>\n",
      "{'two': 2, 'three': 3} is of type <class 'dict'>\n"
     ]
    }
   ],
   "source": [
    "# Recall : Data Containers\n",
    "print([2,3], \"is of type\", type([2,3]))\n",
    "print((2,3), \"is of type\", type((2,3)))\n",
    "print({\"two\" : 2, \"three\" : 3}, \"is of type\", type({\"two\" : 2, \"three\" : 3}))"
   ]
  },
  {
   "cell_type": "code",
   "execution_count": 3,
   "metadata": {},
   "outputs": [
    {
     "name": "stdout",
     "output_type": "stream",
     "text": [
      "<function square at 0x10a3c8710> is of type <class 'function'>\n"
     ]
    }
   ],
   "source": [
    "# Recall : Functions\n",
    "def square(x):\n",
    "    '''returns the square of a number'''\n",
    "    return x**2\n",
    "\n",
    "print(square, \"is of type\", type(square))"
   ]
  },
  {
   "cell_type": "code",
   "execution_count": 4,
   "metadata": {},
   "outputs": [
    {
     "name": "stdout",
     "output_type": "stream",
     "text": [
      "<module 'math' from '/Users/sourav/opt/anaconda3/lib/python3.7/lib-dynload/math.cpython-37m-darwin.so'> is of type <class 'module'>\n"
     ]
    }
   ],
   "source": [
    "# Recall : Modules\n",
    "import math\n",
    "print(math, \"is of type\", type(math))"
   ]
  },
  {
   "cell_type": "code",
   "execution_count": null,
   "metadata": {},
   "outputs": [],
   "source": []
  },
  {
   "cell_type": "markdown",
   "metadata": {},
   "source": [
    "---\n",
    "\n",
    "## Class Definition\n",
    "\n",
    "Classes may be user defined in Python, to provide a template for repeatedly used `objects`, and to modularize the code. The following syntax for defining a `class` is read as \"Class named CLASS_NAME *inherits* from the generic class `object` with user-defined internal ATTRIBUTES and METHODS( )\".     \n",
    "\n",
    "> ```python\n",
    "> def CLASS_NAME( object ):\n",
    ">     '''documentation of the class'''\n",
    ">     ATTRIBUTES\n",
    ">     METHODS()\n",
    "> ```\n",
    "\n",
    "The *documentation of the class* or the `docstring` shows up when someone calls `help()` on the class. Write it as neat and complete as possible."
   ]
  },
  {
   "cell_type": "code",
   "execution_count": 5,
   "metadata": {},
   "outputs": [
    {
     "name": "stdout",
     "output_type": "stream",
     "text": [
      "Help on class list in module builtins:\n",
      "\n",
      "class list(object)\n",
      " |  list(iterable=(), /)\n",
      " |  \n",
      " |  Built-in mutable sequence.\n",
      " |  \n",
      " |  If no argument is given, the constructor creates a new empty list.\n",
      " |  The argument must be an iterable if specified.\n",
      " |  \n",
      " |  Methods defined here:\n",
      " |  \n",
      " |  __add__(self, value, /)\n",
      " |      Return self+value.\n",
      " |  \n",
      " |  __contains__(self, key, /)\n",
      " |      Return key in self.\n",
      " |  \n",
      " |  __delitem__(self, key, /)\n",
      " |      Delete self[key].\n",
      " |  \n",
      " |  __eq__(self, value, /)\n",
      " |      Return self==value.\n",
      " |  \n",
      " |  __ge__(self, value, /)\n",
      " |      Return self>=value.\n",
      " |  \n",
      " |  __getattribute__(self, name, /)\n",
      " |      Return getattr(self, name).\n",
      " |  \n",
      " |  __getitem__(...)\n",
      " |      x.__getitem__(y) <==> x[y]\n",
      " |  \n",
      " |  __gt__(self, value, /)\n",
      " |      Return self>value.\n",
      " |  \n",
      " |  __iadd__(self, value, /)\n",
      " |      Implement self+=value.\n",
      " |  \n",
      " |  __imul__(self, value, /)\n",
      " |      Implement self*=value.\n",
      " |  \n",
      " |  __init__(self, /, *args, **kwargs)\n",
      " |      Initialize self.  See help(type(self)) for accurate signature.\n",
      " |  \n",
      " |  __iter__(self, /)\n",
      " |      Implement iter(self).\n",
      " |  \n",
      " |  __le__(self, value, /)\n",
      " |      Return self<=value.\n",
      " |  \n",
      " |  __len__(self, /)\n",
      " |      Return len(self).\n",
      " |  \n",
      " |  __lt__(self, value, /)\n",
      " |      Return self<value.\n",
      " |  \n",
      " |  __mul__(self, value, /)\n",
      " |      Return self*value.\n",
      " |  \n",
      " |  __ne__(self, value, /)\n",
      " |      Return self!=value.\n",
      " |  \n",
      " |  __repr__(self, /)\n",
      " |      Return repr(self).\n",
      " |  \n",
      " |  __reversed__(self, /)\n",
      " |      Return a reverse iterator over the list.\n",
      " |  \n",
      " |  __rmul__(self, value, /)\n",
      " |      Return value*self.\n",
      " |  \n",
      " |  __setitem__(self, key, value, /)\n",
      " |      Set self[key] to value.\n",
      " |  \n",
      " |  __sizeof__(self, /)\n",
      " |      Return the size of the list in memory, in bytes.\n",
      " |  \n",
      " |  append(self, object, /)\n",
      " |      Append object to the end of the list.\n",
      " |  \n",
      " |  clear(self, /)\n",
      " |      Remove all items from list.\n",
      " |  \n",
      " |  copy(self, /)\n",
      " |      Return a shallow copy of the list.\n",
      " |  \n",
      " |  count(self, value, /)\n",
      " |      Return number of occurrences of value.\n",
      " |  \n",
      " |  extend(self, iterable, /)\n",
      " |      Extend list by appending elements from the iterable.\n",
      " |  \n",
      " |  index(self, value, start=0, stop=9223372036854775807, /)\n",
      " |      Return first index of value.\n",
      " |      \n",
      " |      Raises ValueError if the value is not present.\n",
      " |  \n",
      " |  insert(self, index, object, /)\n",
      " |      Insert object before index.\n",
      " |  \n",
      " |  pop(self, index=-1, /)\n",
      " |      Remove and return item at index (default last).\n",
      " |      \n",
      " |      Raises IndexError if list is empty or index is out of range.\n",
      " |  \n",
      " |  remove(self, value, /)\n",
      " |      Remove first occurrence of value.\n",
      " |      \n",
      " |      Raises ValueError if the value is not present.\n",
      " |  \n",
      " |  reverse(self, /)\n",
      " |      Reverse *IN PLACE*.\n",
      " |  \n",
      " |  sort(self, /, *, key=None, reverse=False)\n",
      " |      Stable sort *IN PLACE*.\n",
      " |  \n",
      " |  ----------------------------------------------------------------------\n",
      " |  Static methods defined here:\n",
      " |  \n",
      " |  __new__(*args, **kwargs) from builtins.type\n",
      " |      Create and return a new object.  See help(type) for accurate signature.\n",
      " |  \n",
      " |  ----------------------------------------------------------------------\n",
      " |  Data and other attributes defined here:\n",
      " |  \n",
      " |  __hash__ = None\n",
      "\n"
     ]
    }
   ],
   "source": [
    "help(list)"
   ]
  },
  {
   "cell_type": "code",
   "execution_count": null,
   "metadata": {},
   "outputs": [],
   "source": []
  },
  {
   "cell_type": "code",
   "execution_count": 6,
   "metadata": {},
   "outputs": [],
   "source": [
    "# Define a Class : Card\n",
    "class Card(object):\n",
    "    '''Standard playing cards'''\n",
    "    pass"
   ]
  },
  {
   "cell_type": "code",
   "execution_count": 7,
   "metadata": {},
   "outputs": [
    {
     "name": "stdout",
     "output_type": "stream",
     "text": [
      "A of Spades\n"
     ]
    }
   ],
   "source": [
    "# Create an Object\n",
    "card = Card()\n",
    "\n",
    "# Set the Attributes\n",
    "card.suit = \"Spades\"\n",
    "card.value = \"A\"\n",
    "\n",
    "# Check the Attributes\n",
    "print(card.value, \"of\", card.suit)"
   ]
  },
  {
   "cell_type": "code",
   "execution_count": null,
   "metadata": {},
   "outputs": [],
   "source": []
  },
  {
   "cell_type": "markdown",
   "metadata": {},
   "source": [
    "Let us enrich the `class` by initializing the attributes when instantiated. This can be done by the `__init__` method for a `class`."
   ]
  },
  {
   "cell_type": "code",
   "execution_count": 8,
   "metadata": {},
   "outputs": [],
   "source": [
    "# Define a Class with Initialization\n",
    "class Card(object):\n",
    "    '''Standard playing cards.\n",
    "       If no argument is given, initializes \"A of Spades\".\n",
    "    '''\n",
    "    def __init__(self, suit = \"Spades\", value = \"A\"):\n",
    "        self.suit = suit\n",
    "        self.value = value"
   ]
  },
  {
   "cell_type": "code",
   "execution_count": 9,
   "metadata": {},
   "outputs": [
    {
     "name": "stdout",
     "output_type": "stream",
     "text": [
      "A of Spades\n"
     ]
    }
   ],
   "source": [
    "# Create a default Card\n",
    "card = Card()\n",
    "print(card.value, \"of\", card.suit)"
   ]
  },
  {
   "cell_type": "code",
   "execution_count": 10,
   "metadata": {},
   "outputs": [
    {
     "name": "stdout",
     "output_type": "stream",
     "text": [
      "7 of Clubs\n"
     ]
    }
   ],
   "source": [
    "# Create a specific Card\n",
    "card = Card(\"Clubs\", \"7\")\n",
    "print(card.value, \"of\", card.suit)"
   ]
  },
  {
   "cell_type": "code",
   "execution_count": null,
   "metadata": {},
   "outputs": [],
   "source": []
  },
  {
   "cell_type": "markdown",
   "metadata": {},
   "source": [
    "Let us enrich the `class` by incorporating a few more `methods` in the definition."
   ]
  },
  {
   "cell_type": "code",
   "execution_count": 11,
   "metadata": {},
   "outputs": [],
   "source": [
    "# Define a Class : Card\n",
    "class Card(object):\n",
    "    '''Standard playing cards.\n",
    "       If no argument is given, initializes \"A of Spades\".\n",
    "    '''\n",
    "    def __init__(self, suit = \"Spades\", value = \"A\"):\n",
    "        self.suit = suit\n",
    "        self.value = value\n",
    "        \n",
    "    def __str__(self):\n",
    "        return 'Card(suit = ' + self.suit + ', value = ' + self.value + ')'\n",
    "        \n",
    "    def show(self):\n",
    "        print(card.value, \"of\", card.suit)"
   ]
  },
  {
   "cell_type": "code",
   "execution_count": 12,
   "metadata": {},
   "outputs": [
    {
     "name": "stdout",
     "output_type": "stream",
     "text": [
      "Help on class Card in module __main__:\n",
      "\n",
      "class Card(builtins.object)\n",
      " |  Card(suit='Spades', value='A')\n",
      " |  \n",
      " |  Standard playing cards.\n",
      " |  If no argument is given, initializes \"A of Spades\".\n",
      " |  \n",
      " |  Methods defined here:\n",
      " |  \n",
      " |  __init__(self, suit='Spades', value='A')\n",
      " |      Initialize self.  See help(type(self)) for accurate signature.\n",
      " |  \n",
      " |  __str__(self)\n",
      " |      Return str(self).\n",
      " |  \n",
      " |  show(self)\n",
      " |  \n",
      " |  ----------------------------------------------------------------------\n",
      " |  Data descriptors defined here:\n",
      " |  \n",
      " |  __dict__\n",
      " |      dictionary for instance variables (if defined)\n",
      " |  \n",
      " |  __weakref__\n",
      " |      list of weak references to the object (if defined)\n",
      "\n"
     ]
    }
   ],
   "source": [
    "help(Card)"
   ]
  },
  {
   "cell_type": "code",
   "execution_count": 13,
   "metadata": {},
   "outputs": [
    {
     "data": {
      "text/plain": [
       "'Card(suit = Clubs, value = 7)'"
      ]
     },
     "execution_count": 13,
     "metadata": {},
     "output_type": "execute_result"
    }
   ],
   "source": [
    "# Using __str__ description\n",
    "card = Card(\"Clubs\", \"7\")\n",
    "str(card)"
   ]
  },
  {
   "cell_type": "code",
   "execution_count": 14,
   "metadata": {},
   "outputs": [
    {
     "name": "stdout",
     "output_type": "stream",
     "text": [
      "7 of Clubs\n"
     ]
    }
   ],
   "source": [
    "# Using the 'show' method\n",
    "card = Card(\"Clubs\", \"7\")\n",
    "card.show()"
   ]
  },
  {
   "cell_type": "code",
   "execution_count": null,
   "metadata": {},
   "outputs": [],
   "source": []
  },
  {
   "cell_type": "markdown",
   "metadata": {},
   "source": [
    "#### Quick Tasks\n",
    "\n",
    "- Create a `class` to represent the Students of an Academic Program at NTU Singapore. You may choose appropriate `attributes` and `methods`.    "
   ]
  },
  {
   "cell_type": "code",
   "execution_count": null,
   "metadata": {},
   "outputs": [],
   "source": []
  },
  {
   "cell_type": "code",
   "execution_count": null,
   "metadata": {},
   "outputs": [],
   "source": []
  },
  {
   "cell_type": "markdown",
   "metadata": {},
   "source": [
    "---\n",
    "## Class incorporating another Class\n",
    "\n",
    "One may always define a `class` that incorporates a set of `objects` from another `class`."
   ]
  },
  {
   "cell_type": "code",
   "execution_count": 15,
   "metadata": {},
   "outputs": [],
   "source": [
    "# Define a Class : Deck\n",
    "class Deck(object):\n",
    "    '''Standard deck of playing cards.\n",
    "    '''\n",
    "    def __init__(self):\n",
    "        self.cards = []\n",
    "        self.setCards()\n",
    "        \n",
    "    def __str__(self):\n",
    "        return 'Standard Deck with 52 Cards'\n",
    "        \n",
    "    def setCards(self):\n",
    "        suits = [\"Spades\", \"Clubs\", \"Diamonds\", \"Hearts\"]\n",
    "        values = [\"A\", \"2\", \"3\", \"4\", \"5\", \"6\", \"7\", \"8\", \"9\", \"10\", \"J\", \"Q\", \"K\"]\n",
    "        for suit in suits:\n",
    "            for value in values:\n",
    "                self.cards.append(Card(suit, value))\n",
    "                \n",
    "    def show(self):\n",
    "        for card in self.cards:\n",
    "            print(card.value, \"of\", card.suit)\n",
    "            \n",
    "    def listCards(self):\n",
    "        return self.cards"
   ]
  },
  {
   "cell_type": "code",
   "execution_count": 16,
   "metadata": {},
   "outputs": [
    {
     "name": "stdout",
     "output_type": "stream",
     "text": [
      "A of Spades\n",
      "2 of Spades\n",
      "3 of Spades\n",
      "4 of Spades\n",
      "5 of Spades\n",
      "6 of Spades\n",
      "7 of Spades\n",
      "8 of Spades\n",
      "9 of Spades\n",
      "10 of Spades\n",
      "J of Spades\n",
      "Q of Spades\n",
      "K of Spades\n",
      "A of Clubs\n",
      "2 of Clubs\n",
      "3 of Clubs\n",
      "4 of Clubs\n",
      "5 of Clubs\n",
      "6 of Clubs\n",
      "7 of Clubs\n",
      "8 of Clubs\n",
      "9 of Clubs\n",
      "10 of Clubs\n",
      "J of Clubs\n",
      "Q of Clubs\n",
      "K of Clubs\n",
      "A of Diamonds\n",
      "2 of Diamonds\n",
      "3 of Diamonds\n",
      "4 of Diamonds\n",
      "5 of Diamonds\n",
      "6 of Diamonds\n",
      "7 of Diamonds\n",
      "8 of Diamonds\n",
      "9 of Diamonds\n",
      "10 of Diamonds\n",
      "J of Diamonds\n",
      "Q of Diamonds\n",
      "K of Diamonds\n",
      "A of Hearts\n",
      "2 of Hearts\n",
      "3 of Hearts\n",
      "4 of Hearts\n",
      "5 of Hearts\n",
      "6 of Hearts\n",
      "7 of Hearts\n",
      "8 of Hearts\n",
      "9 of Hearts\n",
      "10 of Hearts\n",
      "J of Hearts\n",
      "Q of Hearts\n",
      "K of Hearts\n"
     ]
    }
   ],
   "source": [
    "# Create a Deck of Cards\n",
    "deck = Deck()\n",
    "deck.show()"
   ]
  },
  {
   "cell_type": "code",
   "execution_count": 17,
   "metadata": {},
   "outputs": [
    {
     "data": {
      "text/plain": [
       "[<__main__.Card at 0x10a3e99d0>,\n",
       " <__main__.Card at 0x10a3e9c10>,\n",
       " <__main__.Card at 0x10a3e9dd0>,\n",
       " <__main__.Card at 0x10a3e9f10>,\n",
       " <__main__.Card at 0x10a3e90d0>,\n",
       " <__main__.Card at 0x10a3e9950>,\n",
       " <__main__.Card at 0x10a3e9350>,\n",
       " <__main__.Card at 0x10a3e9b10>,\n",
       " <__main__.Card at 0x10a3e93d0>,\n",
       " <__main__.Card at 0x10a3e9990>,\n",
       " <__main__.Card at 0x10a3e95d0>,\n",
       " <__main__.Card at 0x10a3e9390>,\n",
       " <__main__.Card at 0x10a3e9690>,\n",
       " <__main__.Card at 0x10a3e9250>,\n",
       " <__main__.Card at 0x10a3e9850>,\n",
       " <__main__.Card at 0x10a3e9a90>,\n",
       " <__main__.Card at 0x10a3e9190>,\n",
       " <__main__.Card at 0x10a3e91d0>,\n",
       " <__main__.Card at 0x10a3e9c50>,\n",
       " <__main__.Card at 0x10a3e9bd0>,\n",
       " <__main__.Card at 0x10a3e9610>,\n",
       " <__main__.Card at 0x10a3e9590>,\n",
       " <__main__.Card at 0x10ac27210>,\n",
       " <__main__.Card at 0x10ac27cd0>,\n",
       " <__main__.Card at 0x10ac275d0>,\n",
       " <__main__.Card at 0x10ac27b90>,\n",
       " <__main__.Card at 0x10ac276d0>,\n",
       " <__main__.Card at 0x10ac27c90>,\n",
       " <__main__.Card at 0x10ac27bd0>,\n",
       " <__main__.Card at 0x10ac27290>,\n",
       " <__main__.Card at 0x10ac27190>,\n",
       " <__main__.Card at 0x10ac27110>,\n",
       " <__main__.Card at 0x10ac27d10>,\n",
       " <__main__.Card at 0x10ac27c10>,\n",
       " <__main__.Card at 0x10ac27610>,\n",
       " <__main__.Card at 0x10ac27d90>,\n",
       " <__main__.Card at 0x10ac27f50>,\n",
       " <__main__.Card at 0x10ac27d50>,\n",
       " <__main__.Card at 0x10ac27750>,\n",
       " <__main__.Card at 0x10ac27e10>,\n",
       " <__main__.Card at 0x10ac27050>,\n",
       " <__main__.Card at 0x10ac279d0>,\n",
       " <__main__.Card at 0x10ac27dd0>,\n",
       " <__main__.Card at 0x10ac27850>,\n",
       " <__main__.Card at 0x10ac271d0>,\n",
       " <__main__.Card at 0x10a3c9110>,\n",
       " <__main__.Card at 0x10a3c9190>,\n",
       " <__main__.Card at 0x10a3c91d0>,\n",
       " <__main__.Card at 0x10a3c9c10>,\n",
       " <__main__.Card at 0x10a3c9910>,\n",
       " <__main__.Card at 0x10a3c9550>,\n",
       " <__main__.Card at 0x10a3c9210>]"
      ]
     },
     "execution_count": 17,
     "metadata": {},
     "output_type": "execute_result"
    }
   ],
   "source": [
    "# Get the list of Cards\n",
    "deck.listCards()"
   ]
  },
  {
   "cell_type": "code",
   "execution_count": null,
   "metadata": {},
   "outputs": [],
   "source": []
  },
  {
   "cell_type": "markdown",
   "metadata": {},
   "source": [
    "Create a dedicated `method` to randomly shuffle a Deck of Cards in-place."
   ]
  },
  {
   "cell_type": "code",
   "execution_count": 18,
   "metadata": {},
   "outputs": [],
   "source": [
    "# Import random\n",
    "import random\n",
    "\n",
    "# Define a Class : Deck\n",
    "class Deck(object):\n",
    "    '''Standard deck of playing cards.\n",
    "    '''\n",
    "    def __init__(self):\n",
    "        self.cards = []\n",
    "        self.setCards()\n",
    "        \n",
    "    def __str__(self):\n",
    "        return 'Standard Deck with 52 Cards'\n",
    "        \n",
    "    def setCards(self):\n",
    "        suits = [\"Spades\", \"Clubs\", \"Diamonds\", \"Hearts\"]\n",
    "        values = [\"A\", \"2\", \"3\", \"4\", \"5\", \"6\", \"7\", \"8\", \"9\", \"10\", \"J\", \"Q\", \"K\"]\n",
    "        for suit in suits:\n",
    "            for value in values:\n",
    "                self.cards.append(Card(suit, value))\n",
    "                \n",
    "    def show(self):\n",
    "        for card in self.cards:\n",
    "            print(card.value, \"of\", card.suit)\n",
    "            \n",
    "    def listCards(self):\n",
    "        return self.cards\n",
    "    \n",
    "    def shuffleCards(self):\n",
    "        random.shuffle(self.cards)"
   ]
  },
  {
   "cell_type": "code",
   "execution_count": 19,
   "metadata": {},
   "outputs": [
    {
     "name": "stdout",
     "output_type": "stream",
     "text": [
      "A of Spades\n",
      "2 of Spades\n",
      "3 of Spades\n",
      "4 of Spades\n",
      "5 of Spades\n",
      "6 of Spades\n",
      "7 of Spades\n",
      "8 of Spades\n",
      "9 of Spades\n",
      "10 of Spades\n",
      "J of Spades\n",
      "Q of Spades\n",
      "K of Spades\n",
      "A of Clubs\n",
      "2 of Clubs\n",
      "3 of Clubs\n",
      "4 of Clubs\n",
      "5 of Clubs\n",
      "6 of Clubs\n",
      "7 of Clubs\n",
      "8 of Clubs\n",
      "9 of Clubs\n",
      "10 of Clubs\n",
      "J of Clubs\n",
      "Q of Clubs\n",
      "K of Clubs\n",
      "A of Diamonds\n",
      "2 of Diamonds\n",
      "3 of Diamonds\n",
      "4 of Diamonds\n",
      "5 of Diamonds\n",
      "6 of Diamonds\n",
      "7 of Diamonds\n",
      "8 of Diamonds\n",
      "9 of Diamonds\n",
      "10 of Diamonds\n",
      "J of Diamonds\n",
      "Q of Diamonds\n",
      "K of Diamonds\n",
      "A of Hearts\n",
      "2 of Hearts\n",
      "3 of Hearts\n",
      "4 of Hearts\n",
      "5 of Hearts\n",
      "6 of Hearts\n",
      "7 of Hearts\n",
      "8 of Hearts\n",
      "9 of Hearts\n",
      "10 of Hearts\n",
      "J of Hearts\n",
      "Q of Hearts\n",
      "K of Hearts\n"
     ]
    }
   ],
   "source": [
    "# Create a Deck of Cards\n",
    "deck = Deck()\n",
    "deck.show()"
   ]
  },
  {
   "cell_type": "code",
   "execution_count": 20,
   "metadata": {},
   "outputs": [
    {
     "name": "stdout",
     "output_type": "stream",
     "text": [
      "8 of Hearts\n",
      "9 of Hearts\n",
      "4 of Spades\n",
      "K of Diamonds\n",
      "10 of Clubs\n",
      "A of Diamonds\n",
      "9 of Spades\n",
      "7 of Diamonds\n",
      "K of Spades\n",
      "J of Clubs\n",
      "A of Clubs\n",
      "2 of Clubs\n",
      "Q of Spades\n",
      "J of Spades\n",
      "Q of Diamonds\n",
      "3 of Clubs\n",
      "8 of Spades\n",
      "Q of Clubs\n",
      "4 of Diamonds\n",
      "A of Spades\n",
      "3 of Spades\n",
      "5 of Diamonds\n",
      "6 of Clubs\n",
      "J of Diamonds\n",
      "2 of Spades\n",
      "3 of Hearts\n",
      "2 of Diamonds\n",
      "K of Clubs\n",
      "10 of Hearts\n",
      "10 of Diamonds\n",
      "5 of Clubs\n",
      "Q of Hearts\n",
      "J of Hearts\n",
      "8 of Diamonds\n",
      "3 of Diamonds\n",
      "9 of Diamonds\n",
      "2 of Hearts\n",
      "4 of Hearts\n",
      "K of Hearts\n",
      "9 of Clubs\n",
      "10 of Spades\n",
      "6 of Diamonds\n",
      "5 of Hearts\n",
      "7 of Spades\n",
      "7 of Hearts\n",
      "4 of Clubs\n",
      "6 of Hearts\n",
      "5 of Spades\n",
      "6 of Spades\n",
      "A of Hearts\n",
      "8 of Clubs\n",
      "7 of Clubs\n"
     ]
    }
   ],
   "source": [
    "# Shuffle the Deck of Cards\n",
    "deck.shuffleCards()\n",
    "deck.show()"
   ]
  },
  {
   "cell_type": "code",
   "execution_count": null,
   "metadata": {},
   "outputs": [],
   "source": []
  },
  {
   "cell_type": "markdown",
   "metadata": {},
   "source": [
    "Create a dedicated `method` to draw a Card from top of the Deck."
   ]
  },
  {
   "cell_type": "code",
   "execution_count": 21,
   "metadata": {},
   "outputs": [],
   "source": [
    "# Import random\n",
    "import random\n",
    "\n",
    "# Define a Class : Deck\n",
    "class Deck(object):\n",
    "    '''Standard deck of playing cards.\n",
    "    '''\n",
    "    def __init__(self):\n",
    "        self.cards = []\n",
    "        self.setCards()\n",
    "        \n",
    "    def __str__(self):\n",
    "        return 'Standard Deck with 52 Cards'\n",
    "        \n",
    "    def setCards(self):\n",
    "        suits = [\"Spades\", \"Clubs\", \"Diamonds\", \"Hearts\"]\n",
    "        values = [\"A\", \"2\", \"3\", \"4\", \"5\", \"6\", \"7\", \"8\", \"9\", \"10\", \"J\", \"Q\", \"K\"]\n",
    "        for suit in suits:\n",
    "            for value in values:\n",
    "                self.cards.append(Card(suit, value))\n",
    "                \n",
    "    def show(self):\n",
    "        for card in self.cards:\n",
    "            print(card.value, \"of\", card.suit)\n",
    "                    \n",
    "    def listCards(self):\n",
    "        return self.cards\n",
    "\n",
    "    def shuffleCards(self):\n",
    "        random.shuffle(self.cards)\n",
    "        \n",
    "    def drawCard(self):\n",
    "        return self.cards.pop()"
   ]
  },
  {
   "cell_type": "code",
   "execution_count": 22,
   "metadata": {},
   "outputs": [],
   "source": [
    "# Create a Deck of Cards\n",
    "deck = Deck()"
   ]
  },
  {
   "cell_type": "code",
   "execution_count": 23,
   "metadata": {},
   "outputs": [],
   "source": [
    "# Shuffle the Deck of Cards\n",
    "deck.shuffleCards()"
   ]
  },
  {
   "cell_type": "code",
   "execution_count": 24,
   "metadata": {},
   "outputs": [
    {
     "name": "stdout",
     "output_type": "stream",
     "text": [
      "2 of Hearts\n"
     ]
    }
   ],
   "source": [
    "# Draw a Card from the Deck\n",
    "card = deck.drawCard()\n",
    "card.show()"
   ]
  },
  {
   "cell_type": "code",
   "execution_count": 25,
   "metadata": {},
   "outputs": [
    {
     "data": {
      "text/plain": [
       "51"
      ]
     },
     "execution_count": 25,
     "metadata": {},
     "output_type": "execute_result"
    }
   ],
   "source": [
    "# Remaining Cards in the Deck\n",
    "len(deck.listCards())"
   ]
  },
  {
   "cell_type": "code",
   "execution_count": null,
   "metadata": {},
   "outputs": [],
   "source": []
  },
  {
   "cell_type": "markdown",
   "metadata": {},
   "source": [
    "Let us complete the `class` with docstrings specified for all `methods` (good programming practice)."
   ]
  },
  {
   "cell_type": "code",
   "execution_count": 26,
   "metadata": {},
   "outputs": [],
   "source": [
    "# Import random\n",
    "import random\n",
    "\n",
    "\n",
    "# Define a Class : Card\n",
    "class Card(object):\n",
    "    '''Standard playing cards.\n",
    "       If no argument is given, initializes \"A of Spades\".\n",
    "    '''\n",
    "    def __init__(self, suit = \"Spades\", value = \"A\"):\n",
    "        '''initializer for card'''\n",
    "        self.suit = suit\n",
    "        self.value = value\n",
    "        \n",
    "    def __str__(self):\n",
    "        '''string representation for card'''\n",
    "        return 'Card(suit = ' + self.suit + ', value = ' + self.value + ')'\n",
    "        \n",
    "    def show(self):\n",
    "        '''print the suit and value of a card'''\n",
    "        print(card.value, \"of\", card.suit)\n",
    "\n",
    "        \n",
    "# Define a Class : Deck\n",
    "class Deck(object):\n",
    "    '''Standard deck of playing cards.\n",
    "    '''\n",
    "    def __init__(self):\n",
    "        '''initializer for deck'''\n",
    "        self.cards = []\n",
    "        self.setCards()\n",
    "        \n",
    "    def __str__(self):\n",
    "        '''string representation for deck'''\n",
    "        return 'Standard Deck with 52 Cards'\n",
    "        \n",
    "    def setCards(self):\n",
    "        '''set standard 52 cards in a deck'''\n",
    "        suits = [\"Spades\", \"Clubs\", \"Diamonds\", \"Hearts\"]\n",
    "        values = [\"A\", \"2\", \"3\", \"4\", \"5\", \"6\", \"7\", \"8\", \"9\", \"10\", \"J\", \"Q\", \"K\"]\n",
    "        for suit in suits:\n",
    "            for value in values:\n",
    "                self.cards.append(Card(suit, value))\n",
    "                \n",
    "    def show(self):\n",
    "        '''print the cards in a deck'''\n",
    "        for card in self.cards:\n",
    "            print(card.value, \"of\", card.suit)\n",
    "                    \n",
    "    def listCards(self):\n",
    "        '''list of all cards in a deck'''\n",
    "        return self.cards\n",
    "\n",
    "    def shuffleCards(self):\n",
    "        '''randomly shuffle the cards in a deck'''\n",
    "        random.shuffle(self.cards)\n",
    "        \n",
    "    def drawCard(self):\n",
    "        '''draw the top card from a deck'''\n",
    "        return self.cards.pop()"
   ]
  },
  {
   "cell_type": "code",
   "execution_count": 27,
   "metadata": {},
   "outputs": [
    {
     "name": "stdout",
     "output_type": "stream",
     "text": [
      "Help on class Card in module __main__:\n",
      "\n",
      "class Card(builtins.object)\n",
      " |  Card(suit='Spades', value='A')\n",
      " |  \n",
      " |  Standard playing cards.\n",
      " |  If no argument is given, initializes \"A of Spades\".\n",
      " |  \n",
      " |  Methods defined here:\n",
      " |  \n",
      " |  __init__(self, suit='Spades', value='A')\n",
      " |      initializer for card\n",
      " |  \n",
      " |  __str__(self)\n",
      " |      string representation for card\n",
      " |  \n",
      " |  show(self)\n",
      " |      print the suit and value of a card\n",
      " |  \n",
      " |  ----------------------------------------------------------------------\n",
      " |  Data descriptors defined here:\n",
      " |  \n",
      " |  __dict__\n",
      " |      dictionary for instance variables (if defined)\n",
      " |  \n",
      " |  __weakref__\n",
      " |      list of weak references to the object (if defined)\n",
      "\n"
     ]
    }
   ],
   "source": [
    "help(Card)"
   ]
  },
  {
   "cell_type": "code",
   "execution_count": 28,
   "metadata": {},
   "outputs": [
    {
     "name": "stdout",
     "output_type": "stream",
     "text": [
      "Help on class Deck in module __main__:\n",
      "\n",
      "class Deck(builtins.object)\n",
      " |  Standard deck of playing cards.\n",
      " |  \n",
      " |  Methods defined here:\n",
      " |  \n",
      " |  __init__(self)\n",
      " |      initializer for deck\n",
      " |  \n",
      " |  __str__(self)\n",
      " |      string representation for deck\n",
      " |  \n",
      " |  drawCard(self)\n",
      " |      draw the top card from a deck\n",
      " |  \n",
      " |  listCards(self)\n",
      " |      list of all cards in a deck\n",
      " |  \n",
      " |  setCards(self)\n",
      " |      set standard 52 cards in a deck\n",
      " |  \n",
      " |  show(self)\n",
      " |      print the cards in a deck\n",
      " |  \n",
      " |  shuffleCards(self)\n",
      " |      randomly shuffle the cards in a deck\n",
      " |  \n",
      " |  ----------------------------------------------------------------------\n",
      " |  Data descriptors defined here:\n",
      " |  \n",
      " |  __dict__\n",
      " |      dictionary for instance variables (if defined)\n",
      " |  \n",
      " |  __weakref__\n",
      " |      list of weak references to the object (if defined)\n",
      "\n"
     ]
    }
   ],
   "source": [
    "help(Deck)"
   ]
  },
  {
   "cell_type": "code",
   "execution_count": null,
   "metadata": {},
   "outputs": [],
   "source": []
  },
  {
   "cell_type": "markdown",
   "metadata": {},
   "source": [
    "#### Quick Tasks\n",
    "\n",
    "- Create a `class` to represent an Academic Program at NTU Singapore, with Students. You may choose appropriate `attributes` and `methods`.    "
   ]
  },
  {
   "cell_type": "code",
   "execution_count": null,
   "metadata": {},
   "outputs": [],
   "source": []
  },
  {
   "cell_type": "code",
   "execution_count": null,
   "metadata": {},
   "outputs": [],
   "source": []
  },
  {
   "cell_type": "markdown",
   "metadata": {},
   "source": [
    "---\n",
    "## Class Inheritance\n",
    "\n",
    "Often in Object-Oriented-Programming, we will find Classes defined using other Classes as the base. In such cases, the new Class *inherits* its attributes and methods from the base Class, unless otherwise defined (that is, overwritten). Python of course, allows you to define *Class Inheritance* in a natural way."
   ]
  },
  {
   "cell_type": "code",
   "execution_count": 29,
   "metadata": {},
   "outputs": [],
   "source": [
    "# Define a Class : Hand\n",
    "# Based on Class : Deck\n",
    "\n",
    "class Hand(Deck):\n",
    "    '''One hand of playing cards.\n",
    "    '''\n",
    "    def __init__(self, owner = None):\n",
    "        '''initializer for hand'''\n",
    "        self.cards = []\n",
    "        self.owner = owner\n",
    "        \n",
    "    def __str__(self):\n",
    "        '''string representation for hand'''\n",
    "        return 'A hand of playing Cards belonging to ' + self.owner"
   ]
  },
  {
   "cell_type": "code",
   "execution_count": 30,
   "metadata": {},
   "outputs": [
    {
     "data": {
      "text/plain": [
       "'A hand of playing Cards belonging to Bob'"
      ]
     },
     "execution_count": 30,
     "metadata": {},
     "output_type": "execute_result"
    }
   ],
   "source": [
    "# Create a Hand of Cards\n",
    "hand = Hand(\"Bob\")\n",
    "str(hand)"
   ]
  },
  {
   "cell_type": "markdown",
   "metadata": {},
   "source": [
    "All methods originally defined withing the base class `Deck` are still applicable to `Hand`."
   ]
  },
  {
   "cell_type": "code",
   "execution_count": 31,
   "metadata": {},
   "outputs": [],
   "source": [
    "# Show the Hand\n",
    "hand.show()"
   ]
  },
  {
   "cell_type": "code",
   "execution_count": 32,
   "metadata": {},
   "outputs": [
    {
     "data": {
      "text/plain": [
       "[]"
      ]
     },
     "execution_count": 32,
     "metadata": {},
     "output_type": "execute_result"
    }
   ],
   "source": [
    "# List the Cards\n",
    "hand.listCards()"
   ]
  },
  {
   "cell_type": "markdown",
   "metadata": {},
   "source": [
    "Let us add a specific method to `Hand` that was not in the base class `Deck`."
   ]
  },
  {
   "cell_type": "code",
   "execution_count": 33,
   "metadata": {},
   "outputs": [],
   "source": [
    "# Define a Class : Hand\n",
    "# Based on Class : Deck\n",
    "\n",
    "class Hand(Deck):\n",
    "    '''One hand of playing cards.\n",
    "    '''\n",
    "    def __init__(self, owner = None):\n",
    "        '''initializer for hand'''\n",
    "        self.cards = []\n",
    "        self.owner = owner\n",
    "        \n",
    "    def __str__(self):\n",
    "        '''string representation for hand'''\n",
    "        return 'A hand of playing Cards belonging to ' + self.owner\n",
    "    \n",
    "    def addCard(self, card=None):\n",
    "        '''add a card to the hand'''\n",
    "        if card:\n",
    "            self.cards.append(card)"
   ]
  },
  {
   "cell_type": "code",
   "execution_count": 34,
   "metadata": {},
   "outputs": [
    {
     "name": "stdout",
     "output_type": "stream",
     "text": [
      "Deck created :  Standard Deck with 52 Cards\n",
      "Hand created :  A hand of playing Cards belonging to Bob\n",
      "Card drawn :  Card(suit = Spades, value = 2)\n",
      "\n",
      "Cards in hand\n",
      "2 of Spades\n"
     ]
    }
   ],
   "source": [
    "# Create a Deck\n",
    "deck = Deck()\n",
    "print(\"Deck created : \", str(deck))\n",
    "\n",
    "# Create a Hand\n",
    "hand = Hand(\"Bob\")\n",
    "print(\"Hand created : \", str(hand))\n",
    "\n",
    "# Shuffle the Deck of Cards\n",
    "deck.shuffleCards()\n",
    "\n",
    "# Draw a Card from the Deck\n",
    "card = deck.drawCard()\n",
    "print(\"Card drawn : \", str(card))\n",
    "\n",
    "# Add the drawn card to the hand\n",
    "hand.addCard(card)\n",
    "\n",
    "# Show the Hand\n",
    "print()\n",
    "print(\"Cards in hand\")\n",
    "hand.show()"
   ]
  },
  {
   "cell_type": "markdown",
   "metadata": {},
   "source": [
    "You can also deal a Poker Hand of 2 Cards each to 5 Players sitting on your Table."
   ]
  },
  {
   "cell_type": "code",
   "execution_count": 35,
   "metadata": {},
   "outputs": [
    {
     "name": "stdout",
     "output_type": "stream",
     "text": [
      "Deck created :  Standard Deck with 52 Cards\n",
      "Hand created :  A hand of playing Cards belonging to Alice\n",
      "Hand created :  A hand of playing Cards belonging to Bob\n",
      "Hand created :  A hand of playing Cards belonging to Charles\n",
      "Hand created :  A hand of playing Cards belonging to Dalton\n",
      "Hand created :  A hand of playing Cards belonging to Emory\n",
      "\n",
      "\n",
      "Hand of  Alice\n",
      "K of Spades\n",
      "10 of Spades\n",
      "\n",
      "Hand of  Bob\n",
      "Q of Diamonds\n",
      "8 of Spades\n",
      "\n",
      "Hand of  Charles\n",
      "Q of Spades\n",
      "9 of Spades\n",
      "\n",
      "Hand of  Dalton\n",
      "10 of Diamonds\n",
      "K of Hearts\n",
      "\n",
      "Hand of  Emory\n",
      "6 of Clubs\n",
      "A of Clubs\n",
      "\n"
     ]
    }
   ],
   "source": [
    "# Create a Deck\n",
    "deck = Deck()\n",
    "print(\"Deck created : \", str(deck))\n",
    "\n",
    "# Create a Hand for each of the 5 Players\n",
    "players = [\"Alice\", \"Bob\", \"Charles\", \"Dalton\", \"Emory\"]\n",
    "hands = dict((player,None) for player in players)\n",
    "\n",
    "for player in players:\n",
    "    hand = Hand(player)\n",
    "    hands[player] = hand\n",
    "    print(\"Hand created : \", str(hand))\n",
    "\n",
    "# Shuffle the Deck of Cards\n",
    "deck.shuffleCards()\n",
    "\n",
    "# Draw cards from Deck and add to Hands\n",
    "for _ in range(2):\n",
    "    for player in players:\n",
    "        # Draw a Card from the Deck\n",
    "        card = deck.drawCard()\n",
    "        # Add the drawn card to the hand\n",
    "        hands[player].addCard(card)\n",
    "\n",
    "# Show the Hands\n",
    "print()\n",
    "print()\n",
    "for player in players:\n",
    "    print(\"Hand of \", player)\n",
    "    hands[player].show()\n",
    "    print()"
   ]
  },
  {
   "cell_type": "code",
   "execution_count": null,
   "metadata": {},
   "outputs": [],
   "source": []
  },
  {
   "cell_type": "markdown",
   "metadata": {},
   "source": [
    "#### Quick Tasks\n",
    "\n",
    "- Create a `class` to represent the MSAI Program at NTU Singapore, with Students. You may choose to inherit from a base Academic Program.    "
   ]
  },
  {
   "cell_type": "code",
   "execution_count": null,
   "metadata": {},
   "outputs": [],
   "source": []
  },
  {
   "cell_type": "code",
   "execution_count": null,
   "metadata": {},
   "outputs": [],
   "source": []
  }
 ],
 "metadata": {
  "kernelspec": {
   "display_name": "Python 3",
   "language": "python",
   "name": "python3"
  },
  "language_info": {
   "codemirror_mode": {
    "name": "ipython",
    "version": 3
   },
   "file_extension": ".py",
   "mimetype": "text/x-python",
   "name": "python",
   "nbconvert_exporter": "python",
   "pygments_lexer": "ipython3",
   "version": "3.7.5"
  }
 },
 "nbformat": 4,
 "nbformat_minor": 2
}

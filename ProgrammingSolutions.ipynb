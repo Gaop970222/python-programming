{
 "cells": [
  {
   "cell_type": "markdown",
   "metadata": {},
   "source": [
    "# Python Programming\n",
    "\n",
    "**Programming Challenges : Solutions** \n",
    "\n",
    "Specimen solutions to the Progrmaming Challenges are as follows. Feel free to improve upon them as you deem suitable. Believe me, they can be improved!\n",
    "\n",
    "---"
   ]
  },
  {
   "cell_type": "markdown",
   "metadata": {},
   "source": [
    "## Fibonacci Numbers\n",
    "\n",
    "Print the list of all Fibonacci Numbers (https://en.wikipedia.org/wiki/Fibonacci_number) below 1000.       "
   ]
  },
  {
   "cell_type": "code",
   "execution_count": null,
   "metadata": {},
   "outputs": [],
   "source": [
    "# Create a list of Fibonacci numbers below 1000\n",
    "fibonacci = []\n",
    "F1, F2 = 1, 1\n",
    "\n",
    "while F1 < 1000:\n",
    "    F1, F2 = F2, F1 + F2\n",
    "    fibonacci.append(F1)\n",
    "\n",
    "print(fibonacci)"
   ]
  },
  {
   "cell_type": "markdown",
   "metadata": {},
   "source": [
    "Modify the program slightly to print the list of first 1000 Fibonacci Numbers.          "
   ]
  },
  {
   "cell_type": "code",
   "execution_count": null,
   "metadata": {},
   "outputs": [],
   "source": [
    "# Create a list of first 1000 Fibonacci numbers\n",
    "fibonacci = []\n",
    "F1, F2 = 1, 1\n",
    "\n",
    "for _ in range(1000):\n",
    "    F1, F2 = F2, F1 + F2\n",
    "    fibonacci.append(F1)\n",
    "\n",
    "print(fibonacci)"
   ]
  },
  {
   "cell_type": "markdown",
   "metadata": {},
   "source": [
    " How fast to the Fibonacci numbers grow? Check through code.      "
   ]
  },
  {
   "cell_type": "code",
   "execution_count": null,
   "metadata": {},
   "outputs": [],
   "source": [
    "# Create a list of ratios of consecutive Fibonacci numbers\n",
    "fibratios = []\n",
    "F1, F2 = 1, 1\n",
    "\n",
    "for _ in range(100):\n",
    "    F1, F2 = F2, F1 + F2\n",
    "    fibratios.append(F2/F1)\n",
    "    \n",
    "print(fibratios)"
   ]
  },
  {
   "cell_type": "code",
   "execution_count": null,
   "metadata": {},
   "outputs": [],
   "source": []
  },
  {
   "cell_type": "markdown",
   "metadata": {},
   "source": [
    "---\n",
    "## Prime Numbers\n",
    "\n",
    "Print the list of all Prime Numbers (https://en.wikipedia.org/wiki/Prime_number) below 1000.    "
   ]
  },
  {
   "cell_type": "code",
   "execution_count": null,
   "metadata": {},
   "outputs": [],
   "source": [
    "# Create a list of Prime numbers below 1000\n",
    "primes = []\n",
    "\n",
    "for num in range(2,1000):\n",
    "    for p in primes:\n",
    "        if num % p == 0:\n",
    "            break\n",
    "    else:\n",
    "        primes.append(num)\n",
    "\n",
    "print(primes)"
   ]
  },
  {
   "cell_type": "markdown",
   "metadata": {},
   "source": [
    "Modify the program slightly to print the list of first 1000 Prime Numbers.      "
   ]
  },
  {
   "cell_type": "code",
   "execution_count": null,
   "metadata": {},
   "outputs": [],
   "source": [
    "# Create a list of first 1000 Prime numbers\n",
    "primes = []\n",
    "numprimes = 0\n",
    "num = 2\n",
    "\n",
    "while numprimes < 1000:\n",
    "    for p in primes:\n",
    "        if num % p == 0:\n",
    "            break\n",
    "    else:\n",
    "        primes.append(num)\n",
    "        numprimes += 1\n",
    "\n",
    "    num += 1\n",
    "\n",
    "print(primes)"
   ]
  },
  {
   "cell_type": "markdown",
   "metadata": {},
   "source": [
    "How fast to the Prime numbers grow? Check through code.    "
   ]
  },
  {
   "cell_type": "code",
   "execution_count": null,
   "metadata": {},
   "outputs": [],
   "source": [
    "# Create a list of ratios of consecutive Prime numbers\n",
    "primes = []\n",
    "primeratios = []\n",
    "numprimes = 0\n",
    "num = 2\n",
    "\n",
    "while numprimes < 100:\n",
    "    for p in primes:\n",
    "        if num % p == 0:\n",
    "            break\n",
    "    else:\n",
    "        primes.append(num)\n",
    "        numprimes += 1\n",
    "\n",
    "    if numprimes > 1:\n",
    "        primeratios.append(primes[-1]/primes[-2])\n",
    "        \n",
    "    num += 1\n",
    "\n",
    "print(primeratios)"
   ]
  },
  {
   "cell_type": "code",
   "execution_count": null,
   "metadata": {},
   "outputs": [],
   "source": []
  },
  {
   "cell_type": "markdown",
   "metadata": {},
   "source": [
    "---\n",
    "## Passwork Checker\n",
    "\n",
    "Given a string, write a function to determine if it is a legitimate *Password*, satisfying the following conditions: \n",
    "- (i) length between 8 and 24,    \n",
    "- (ii) at least one uppercase character,    \n",
    "- (iii) at least one lowercase character,    \n",
    "- (iv) at least one digit,     \n",
    "- (v) at least one special character amongst `!@#%&*`, and    \n",
    "- (vi) no spaces in between.      \n",
    "\n",
    "The function should accept a `string` as input, and return `True` or `False` according to the conditions.     "
   ]
  },
  {
   "cell_type": "code",
   "execution_count": null,
   "metadata": {},
   "outputs": [],
   "source": [
    "# Define a Function to check the strength of a Password\n",
    "def isGoodPassword(password):\n",
    "    ''' Checks whether an input password is 'Good' or 'Bad'.\n",
    "        input : password (string)\n",
    "        output : True / False (bool)\n",
    "    '''\n",
    "    if (len(password) < 8) or (len(password) > 24):\n",
    "        return False\n",
    "    \n",
    "    hasUpper = False\n",
    "    hasLower = False\n",
    "    hasDigit = False\n",
    "    hasSpcCh = False\n",
    "    spcChars = \"!@#$%^&*\"\n",
    "    \n",
    "    for character in password:\n",
    "        if character.isupper():\n",
    "            hasUpper = True\n",
    "        elif character.islower():\n",
    "            hasLower = True\n",
    "        elif character.isdigit():\n",
    "            hasDigit = True\n",
    "        elif character in spcChars:\n",
    "            hasSpcCh = True\n",
    "        elif character.isspace():\n",
    "            return False\n",
    "        else:\n",
    "            return False\n",
    "        \n",
    "    return (hasUpper and hasLower and hasDigit and hasSpcCh)\n",
    "\n",
    "\n",
    "# Call the function with a Password\n",
    "isGoodPassword(\"AI6120@NTUSingapore\")"
   ]
  },
  {
   "cell_type": "code",
   "execution_count": null,
   "metadata": {},
   "outputs": [],
   "source": []
  },
  {
   "cell_type": "markdown",
   "metadata": {},
   "source": [
    "---\n",
    "## Bulls and Cows Game\n",
    "\n",
    "Write a program so that a User may play the `Bulls-and-Cows` game (https://en.wikipedia.org/wiki/Bulls_and_Cows) against the Computer, such that the Computer chooses a random 4-digit number with non-repeating digits, and the User has to guess the number using hints of the form `x Bulls y Cows`.     "
   ]
  },
  {
   "cell_type": "code",
   "execution_count": null,
   "metadata": {},
   "outputs": [],
   "source": [
    "# Bulls and Cows Game\n",
    "import random\n",
    "\n",
    "\n",
    "def setTarget(digits, size):\n",
    "    '''randomly generate the target number of a given size\n",
    "       input : digits (list of digits), size (number of digits)\n",
    "       output : target number as a list of random digits\n",
    "    '''\n",
    "    random.shuffle(digits)\n",
    "    return digits[:size]\n",
    "\n",
    "\n",
    "def userGuess(size):\n",
    "    '''take as user input the guess as a list of digits\n",
    "       input : size (number of digits)    \n",
    "       output : user-guessed number as a list of digits\n",
    "    '''\n",
    "    inputStr = input(\"Enter your guess : \")\n",
    "    while inputStr.isdigit() == False or len(inputStr) != size:\n",
    "        print(\"Wrong format! Please try again.\")\n",
    "        inputStr = input(\"Enter your guess : \")\n",
    "\n",
    "    return [int(x) for x in inputStr]\n",
    "\n",
    "\n",
    "def checkGuess(guess, target):\n",
    "    '''compare user guess with the target number\n",
    "       input : guess (user guess), target (target number)    \n",
    "       output : number of Bulls and Cows as a tuple\n",
    "    '''\n",
    "    bulls = cows = 0\n",
    "\n",
    "    for i in range(len(guess)):\n",
    "        for j in range(len(target)):\n",
    "            if guess[i] == target[j]:\n",
    "                if i == j:\n",
    "                    bulls += 1\n",
    "                else:\n",
    "                    cows += 1\n",
    "\n",
    "    return (bulls, cows) \n",
    "\n",
    "\n",
    "def bullscows():\n",
    "    '''main function of the bulls and cows game\n",
    "    '''\n",
    "    # Define the default parameters\n",
    "    WIDTH = 4\n",
    "    DIGITS = [1,2,3,4,5,6,7,8,9,0]\n",
    "\n",
    "    # Set the random target\n",
    "    target = setTarget(digits = DIGITS, size = WIDTH)\n",
    "\n",
    "    # Start the game with User\n",
    "    attempts = 0\n",
    "    while True:\n",
    "        # Take the user input\n",
    "        guess = userGuess(size = WIDTH)\n",
    "        # Keep count of attempts\n",
    "        attempts += 1\n",
    "        # Check the guess against target\n",
    "        bulls, cows = checkGuess(guess = guess, target = target)\n",
    "\n",
    "        # Condition for Win-Loss-Continue\n",
    "        if bulls == WIDTH:\n",
    "            print(\"Congratulations! Correct guess.\")\n",
    "            print(\"Total number of attempts : \", attempts)\n",
    "            break\n",
    "        else:\n",
    "            print(bulls, \" Bulls and \", cows, \" Cows\")\n",
    "            print(\"Number of attempts : \", attempts)\n",
    "            print()"
   ]
  },
  {
   "cell_type": "code",
   "execution_count": null,
   "metadata": {},
   "outputs": [],
   "source": [
    "# Run the Game\n",
    "bullscows()"
   ]
  },
  {
   "cell_type": "code",
   "execution_count": null,
   "metadata": {},
   "outputs": [],
   "source": []
  },
  {
   "cell_type": "markdown",
   "metadata": {},
   "source": [
    "---\n",
    "## Tic-Tac-Toe Game\n",
    "\n",
    "Write a program so that two Users may play the `Tic-Tac-Toe` game (https://en.wikipedia.org/wiki/Tic-tac-toe) against each other, such that the Computer facilitates the game -- offers `X` to User A and `O` to User B, prints the board after every move by the Users, and announces the result (Winner or Draw).      "
   ]
  },
  {
   "cell_type": "code",
   "execution_count": null,
   "metadata": {},
   "outputs": [],
   "source": [
    "# Tic-Tac-Toe Game\n",
    "\n",
    "def tictactoe():\n",
    "    '''main function of the tic-tac-toe game\n",
    "    '''\n",
    "    # Define main components\n",
    "    board = [0,0,0,\n",
    "             0,0,0,\n",
    "             0,0,0]\n",
    "    \n",
    "    uXpos = set()\n",
    "    uOpos = set()\n",
    "\n",
    "    # Set the winning sets\n",
    "    winPos = [set([0,1,2]), set([3,4,5]), set([6,7,8]),\n",
    "              set([0,3,6]), set([1,4,7]), set([2,5,8]),\n",
    "              set([0,4,8]), set([2,4,6])]\n",
    "\n",
    "    # Start the game with Two Users\n",
    "    for moves in range(9):\n",
    "        # Print the Board\n",
    "        print(board)\n",
    "        print()\n",
    "        \n",
    "        # Set the user appropriately\n",
    "        if moves % 2 == 0:\n",
    "            print(\"Turn for User X\")\n",
    "            xPos = int(input(\"Enter X mark at : \"))\n",
    "            while board[xPos] != 0:\n",
    "                print(\"Already marked!\")\n",
    "                xPos = int(input(\"Enter X mark at : \"))\n",
    "            # Enter user mark\n",
    "            board[xPos] = \"X\"\n",
    "            uXpos.add(xPos)\n",
    "            # Check win condition\n",
    "            for win in winPos:\n",
    "                if win.issubset(uXpos):\n",
    "                    print(\"Game Over! User X wins.\")\n",
    "                    return \"User X wins.\"\n",
    "        else:\n",
    "            print(\"Turn for User O\")\n",
    "            oPos = int(input(\"Enter O mark at : \"))\n",
    "            while board[oPos] != 0:\n",
    "                print(\"Already marked!\")\n",
    "                oPos = int(input(\"Enter O mark at : \"))\n",
    "            # Enter user mark\n",
    "            board[oPos] = \"O\"\n",
    "            uOpos.add(oPos)\n",
    "            # Check win condition\n",
    "            for win in winPos:\n",
    "                if win.issubset(uOpos):\n",
    "                    print(\"Game Over! User O wins.\")\n",
    "                    return \"User O wins.\"\n",
    "                \n",
    "        print()"
   ]
  },
  {
   "cell_type": "code",
   "execution_count": null,
   "metadata": {},
   "outputs": [],
   "source": [
    "tictactoe()"
   ]
  },
  {
   "cell_type": "code",
   "execution_count": null,
   "metadata": {},
   "outputs": [],
   "source": []
  },
  {
   "cell_type": "markdown",
   "metadata": {},
   "source": [
    "---\n",
    "## Compute Square Root\n",
    "\n",
    "Given a number (integer or floating point) and a desired precision (in number of digits), compute the *Square Root* of the number up to the desired precision."
   ]
  },
  {
   "cell_type": "code",
   "execution_count": null,
   "metadata": {},
   "outputs": [],
   "source": []
  },
  {
   "cell_type": "markdown",
   "metadata": {},
   "source": [
    "Compare results with `math.sqrt()` to check precision. Time (`%%timeit`) your code to check 'precision vs. time complexity' of the function you wrote."
   ]
  },
  {
   "cell_type": "code",
   "execution_count": null,
   "metadata": {},
   "outputs": [],
   "source": []
  },
  {
   "cell_type": "code",
   "execution_count": null,
   "metadata": {},
   "outputs": [],
   "source": []
  },
  {
   "cell_type": "markdown",
   "metadata": {},
   "source": [
    "---\n",
    "## Compute Matrix Determinant\n",
    "\n",
    "Given a matrix (as list of lists), compute the *Determinant* of the matrix using Laplace Expansion (https://en.wikipedia.org/wiki/Laplace_expansion).      "
   ]
  },
  {
   "cell_type": "code",
   "execution_count": null,
   "metadata": {},
   "outputs": [],
   "source": []
  },
  {
   "cell_type": "markdown",
   "metadata": {},
   "source": [
    "Time (`%%timeit`) your code with varying matrix dimensions ($n \\times n$) to check the computational complexity of the function you wrote.   "
   ]
  },
  {
   "cell_type": "code",
   "execution_count": null,
   "metadata": {},
   "outputs": [],
   "source": []
  },
  {
   "cell_type": "code",
   "execution_count": null,
   "metadata": {},
   "outputs": [],
   "source": []
  },
  {
   "cell_type": "markdown",
   "metadata": {},
   "source": [
    "---\n",
    "## Levenshtein Distance\n",
    "\n",
    "Given two strings as User input, write a function to compute the *Levenshtein Distance* (https://en.wikipedia.org/wiki/Levenshtein_distance) between them.    "
   ]
  },
  {
   "cell_type": "code",
   "execution_count": null,
   "metadata": {},
   "outputs": [],
   "source": []
  },
  {
   "cell_type": "code",
   "execution_count": null,
   "metadata": {},
   "outputs": [],
   "source": []
  },
  {
   "cell_type": "markdown",
   "metadata": {},
   "source": [
    "---\n",
    "## Count Word Frequencies\n",
    "\n",
    "Given an input text file, record the *Count/Frequency* of all words longer than 3 characters in a Dictionary `{word: count}`, and sort it by Count/Frequency.    "
   ]
  },
  {
   "cell_type": "code",
   "execution_count": null,
   "metadata": {},
   "outputs": [],
   "source": []
  },
  {
   "cell_type": "code",
   "execution_count": null,
   "metadata": {},
   "outputs": [],
   "source": []
  },
  {
   "cell_type": "markdown",
   "metadata": {},
   "source": [
    "**Hope you liked the specimen solutions. If you improve upon them, please feel free to share with me.**"
   ]
  },
  {
   "cell_type": "code",
   "execution_count": null,
   "metadata": {},
   "outputs": [],
   "source": []
  }
 ],
 "metadata": {
  "kernelspec": {
   "display_name": "Python 3",
   "language": "python",
   "name": "python3"
  },
  "language_info": {
   "codemirror_mode": {
    "name": "ipython",
    "version": 3
   },
   "file_extension": ".py",
   "mimetype": "text/x-python",
   "name": "python",
   "nbconvert_exporter": "python",
   "pygments_lexer": "ipython3",
   "version": "3.7.5"
  }
 },
 "nbformat": 4,
 "nbformat_minor": 2
}

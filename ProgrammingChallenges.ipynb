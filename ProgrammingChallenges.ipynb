{
 "cells": [
  {
   "cell_type": "markdown",
   "metadata": {},
   "source": [
    "# Python Programming\n",
    "\n",
    "**Programming Challenges** \n",
    "\n",
    "Solve the following problems using Python as you learn the various Modules on Python Programming. *Practice is the key, as always.*     \n",
    "\n",
    "---"
   ]
  },
  {
   "cell_type": "markdown",
   "metadata": {},
   "source": [
    "## Fibonacci Numbers\n",
    "\n",
    "Print the list of all Fibonacci Numbers (https://en.wikipedia.org/wiki/Fibonacci_number) below 1000.       "
   ]
  },
  {
   "cell_type": "code",
   "execution_count": null,
   "metadata": {},
   "outputs": [],
   "source": []
  },
  {
   "cell_type": "markdown",
   "metadata": {},
   "source": [
    "Modify the program slightly to print the list of first 1000 Fibonacci Numbers.          "
   ]
  },
  {
   "cell_type": "code",
   "execution_count": null,
   "metadata": {
    "scrolled": true
   },
   "outputs": [],
   "source": []
  },
  {
   "cell_type": "markdown",
   "metadata": {},
   "source": [
    " How fast to the Fibonacci numbers grow? Check through code.      "
   ]
  },
  {
   "cell_type": "code",
   "execution_count": null,
   "metadata": {},
   "outputs": [],
   "source": []
  },
  {
   "cell_type": "code",
   "execution_count": null,
   "metadata": {},
   "outputs": [],
   "source": []
  },
  {
   "cell_type": "markdown",
   "metadata": {},
   "source": [
    "---\n",
    "## Prime Numbers\n",
    "\n",
    "Print the list of all Prime Numbers (https://en.wikipedia.org/wiki/Prime_number) below 1000.    "
   ]
  },
  {
   "cell_type": "code",
   "execution_count": null,
   "metadata": {},
   "outputs": [],
   "source": []
  },
  {
   "cell_type": "markdown",
   "metadata": {},
   "source": [
    "Modify the program slightly to print the list of first 1000 Prime Numbers.      "
   ]
  },
  {
   "cell_type": "code",
   "execution_count": null,
   "metadata": {},
   "outputs": [],
   "source": []
  },
  {
   "cell_type": "markdown",
   "metadata": {},
   "source": [
    "How fast to the Prime numbers grow? Check through code.    "
   ]
  },
  {
   "cell_type": "code",
   "execution_count": null,
   "metadata": {},
   "outputs": [],
   "source": []
  },
  {
   "cell_type": "code",
   "execution_count": null,
   "metadata": {},
   "outputs": [],
   "source": []
  },
  {
   "cell_type": "markdown",
   "metadata": {},
   "source": [
    "---\n",
    "## Passwork Checker\n",
    "\n",
    "Given a string, write a function to determine if it is a legitimate *Password*, satisfying the following conditions: \n",
    "- (i) length between 8 and 24,    \n",
    "- (ii) at least one uppercase character,    \n",
    "- (iii) at least one lowercase character,    \n",
    "- (iv) at least one digit,     \n",
    "- (v) at least one special character amongst `!@#%&*`, and    \n",
    "- (vi) no spaces in between.      \n",
    "\n",
    "The function should accept a `string` as input, and return `True` or `False` according to the conditions.     "
   ]
  },
  {
   "cell_type": "code",
   "execution_count": null,
   "metadata": {},
   "outputs": [],
   "source": []
  },
  {
   "cell_type": "code",
   "execution_count": null,
   "metadata": {},
   "outputs": [],
   "source": []
  },
  {
   "cell_type": "markdown",
   "metadata": {},
   "source": [
    "---\n",
    "## Bulls and Cows Game\n",
    "\n",
    "Write a program so that a User may play the `Bulls-and-Cows` game (https://en.wikipedia.org/wiki/Bulls_and_Cows) against the Computer, such that the Computer chooses a random 4-digit number with non-repeating digits, and the User has to guess the number using hints of the form `x Bulls y Cows`.     "
   ]
  },
  {
   "cell_type": "code",
   "execution_count": null,
   "metadata": {},
   "outputs": [],
   "source": []
  },
  {
   "cell_type": "code",
   "execution_count": null,
   "metadata": {},
   "outputs": [],
   "source": []
  },
  {
   "cell_type": "markdown",
   "metadata": {},
   "source": [
    "---\n",
    "## Tic-Tac-Toe Game\n",
    "\n",
    "Write a program so that two Users may play the `Tic-Tac-Toe` game (https://en.wikipedia.org/wiki/Tic-tac-toe) against each other, such that the Computer facilitates the game -- offers `X` to User A and `O` to User B, prints the board after every move by the Users, and announces the result (Winner or Draw).      "
   ]
  },
  {
   "cell_type": "code",
   "execution_count": null,
   "metadata": {},
   "outputs": [],
   "source": []
  },
  {
   "cell_type": "code",
   "execution_count": null,
   "metadata": {},
   "outputs": [],
   "source": []
  },
  {
   "cell_type": "markdown",
   "metadata": {},
   "source": [
    "---\n",
    "## Compute Square Root\n",
    "\n",
    "Given a number (integer or floating point) and a desired precision (in number of digits), compute the *Square Root* of the number up to the desired precision."
   ]
  },
  {
   "cell_type": "code",
   "execution_count": null,
   "metadata": {},
   "outputs": [],
   "source": []
  },
  {
   "cell_type": "markdown",
   "metadata": {},
   "source": [
    "Compare results with `math.sqrt()` to check precision. Time (`%%timeit`) your code to check 'precision vs. time complexity' of the function you wrote."
   ]
  },
  {
   "cell_type": "code",
   "execution_count": null,
   "metadata": {},
   "outputs": [],
   "source": []
  },
  {
   "cell_type": "code",
   "execution_count": null,
   "metadata": {},
   "outputs": [],
   "source": []
  },
  {
   "cell_type": "markdown",
   "metadata": {},
   "source": [
    "---\n",
    "## Compute Matrix Determinant\n",
    "\n",
    "Given a matrix (as list of lists), compute the *Determinant* of the matrix using Laplace Expansion (https://en.wikipedia.org/wiki/Laplace_expansion).      "
   ]
  },
  {
   "cell_type": "code",
   "execution_count": null,
   "metadata": {},
   "outputs": [],
   "source": []
  },
  {
   "cell_type": "markdown",
   "metadata": {},
   "source": [
    "Time (`%%timeit`) your code with varying matrix dimensions ($n \\times n$) to check the computational complexity of the function you wrote.   "
   ]
  },
  {
   "cell_type": "code",
   "execution_count": null,
   "metadata": {},
   "outputs": [],
   "source": []
  },
  {
   "cell_type": "code",
   "execution_count": null,
   "metadata": {},
   "outputs": [],
   "source": []
  },
  {
   "cell_type": "markdown",
   "metadata": {},
   "source": [
    "---\n",
    "## Levenshtein Distance\n",
    "\n",
    "Given two strings as User input, write a function to compute the *Levenshtein Distance* (https://en.wikipedia.org/wiki/Levenshtein_distance) between them.    "
   ]
  },
  {
   "cell_type": "code",
   "execution_count": null,
   "metadata": {},
   "outputs": [],
   "source": []
  },
  {
   "cell_type": "code",
   "execution_count": null,
   "metadata": {},
   "outputs": [],
   "source": []
  },
  {
   "cell_type": "markdown",
   "metadata": {},
   "source": [
    "---\n",
    "## Count Word Frequencies\n",
    "\n",
    "Given an input text file, record the *Count/Frequency* of all words longer than 3 characters in a Dictionary `{word: count}`, and sort it by Count/Frequency.    "
   ]
  },
  {
   "cell_type": "code",
   "execution_count": null,
   "metadata": {},
   "outputs": [],
   "source": []
  },
  {
   "cell_type": "code",
   "execution_count": null,
   "metadata": {},
   "outputs": [],
   "source": []
  },
  {
   "cell_type": "markdown",
   "metadata": {},
   "source": [
    "#### More problems to come ..."
   ]
  },
  {
   "cell_type": "code",
   "execution_count": null,
   "metadata": {},
   "outputs": [],
   "source": []
  },
  {
   "cell_type": "code",
   "execution_count": null,
   "metadata": {},
   "outputs": [],
   "source": []
  }
 ],
 "metadata": {
  "kernelspec": {
   "display_name": "Python 3",
   "language": "python",
   "name": "python3"
  },
  "language_info": {
   "codemirror_mode": {
    "name": "ipython",
    "version": 3
   },
   "file_extension": ".py",
   "mimetype": "text/x-python",
   "name": "python",
   "nbconvert_exporter": "python",
   "pygments_lexer": "ipython3",
   "version": "3.7.5"
  }
 },
 "nbformat": 4,
 "nbformat_minor": 2
}

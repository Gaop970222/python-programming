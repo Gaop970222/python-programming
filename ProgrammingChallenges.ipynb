{
 "cells": [
  {
   "cell_type": "markdown",
   "metadata": {},
   "source": [
    "# CrashPy\n",
    "\n",
    "**Python Programming Challenges** \n",
    "\n",
    "Solve the following problems using Python as you learn the various Modules on Python Programming. *Practice is the key, as always.*     \n",
    "\n",
    "---"
   ]
  },
  {
   "cell_type": "markdown",
   "metadata": {},
   "source": [
    "## Fibonacci Numbers\n",
    "\n",
    "Print the list of all Fibonacci Numbers (https://en.wikipedia.org/wiki/Fibonacci_number) below 1000.       \n",
    "Modify the program slightly to print the list of first 1000 Fibonacci Numbers. How fast to they grow?     "
   ]
  },
  {
   "cell_type": "code",
   "execution_count": null,
   "metadata": {},
   "outputs": [],
   "source": []
  },
  {
   "cell_type": "code",
   "execution_count": null,
   "metadata": {},
   "outputs": [],
   "source": []
  },
  {
   "cell_type": "markdown",
   "metadata": {},
   "source": [
    "## Prime Numbers\n",
    "\n",
    "Print the list of all Prime Numbers (https://en.wikipedia.org/wiki/Prime_number) below 1000.    \n",
    "Modify the program slightly to print the list of first 1000 Prime Numbers. How fast to they grow?     "
   ]
  },
  {
   "cell_type": "code",
   "execution_count": null,
   "metadata": {},
   "outputs": [],
   "source": []
  },
  {
   "cell_type": "code",
   "execution_count": null,
   "metadata": {},
   "outputs": [],
   "source": []
  },
  {
   "cell_type": "markdown",
   "metadata": {},
   "source": [
    "## Passwork Checker\n",
    "\n",
    "Given a string, determine if it is a legitimate *Password*, satisfying -- (i) length between 8 and 24, (ii) at least one uppercase character, (iii) at least one lowercase character, (iv) at least one digit, (v) at least one special character amongst `!@#%&*`, and (vi) no spaces in between. Output `True` or `False` accordingly.     "
   ]
  },
  {
   "cell_type": "code",
   "execution_count": null,
   "metadata": {},
   "outputs": [],
   "source": []
  },
  {
   "cell_type": "code",
   "execution_count": null,
   "metadata": {},
   "outputs": [],
   "source": []
  },
  {
   "cell_type": "markdown",
   "metadata": {},
   "source": [
    "## Bulls and Cows Game\n",
    "\n",
    "Write a program so that a User may play the `Bulls-and-Cows` game (https://en.wikipedia.org/wiki/Bulls_and_Cows) against the Computer, such that the Computer chooses a random 4-digit number with non-repeating digits, and the User has to guess the number using hints of the form `x Bulls y Cows`.     "
   ]
  },
  {
   "cell_type": "code",
   "execution_count": null,
   "metadata": {},
   "outputs": [],
   "source": []
  },
  {
   "cell_type": "code",
   "execution_count": null,
   "metadata": {},
   "outputs": [],
   "source": []
  },
  {
   "cell_type": "markdown",
   "metadata": {},
   "source": [
    "## Tic-Tac-Toe Game\n",
    "\n",
    "Write a program so that two Users may play the `Tic-Tac-Toe` game (https://en.wikipedia.org/wiki/Tic-tac-toe) against each other, such that the Computer facilitates the game -- offers `X` to User A and `O` to User B, prints the board after every move by the Users, and announces the result (Winner or Draw).      "
   ]
  },
  {
   "cell_type": "code",
   "execution_count": null,
   "metadata": {},
   "outputs": [],
   "source": []
  },
  {
   "cell_type": "code",
   "execution_count": null,
   "metadata": {},
   "outputs": [],
   "source": []
  },
  {
   "cell_type": "markdown",
   "metadata": {},
   "source": [
    "## Compute Square Root\n",
    "\n",
    "Given a number (integer or floating point) and a desired precision (in number of digits), compute the *Square Root* of the number up to the desired precision of digits. Compare your computation with `math.sqrt()` to check the error. Time your code to check 'precision vs. time complexity' of the function you wrote."
   ]
  },
  {
   "cell_type": "code",
   "execution_count": null,
   "metadata": {},
   "outputs": [],
   "source": []
  },
  {
   "cell_type": "code",
   "execution_count": null,
   "metadata": {},
   "outputs": [],
   "source": []
  },
  {
   "cell_type": "markdown",
   "metadata": {},
   "source": [
    "## Compute Matrix Determinant\n",
    "\n",
    "Given a matrix, compute the *Determinant* of the matrix using Laplace Expansion (https://en.wikipedia.org/wiki/Laplace_expansion). What is the complexity?"
   ]
  },
  {
   "cell_type": "code",
   "execution_count": null,
   "metadata": {},
   "outputs": [],
   "source": []
  },
  {
   "cell_type": "code",
   "execution_count": null,
   "metadata": {},
   "outputs": [],
   "source": []
  },
  {
   "cell_type": "markdown",
   "metadata": {},
   "source": [
    "## Count Word Frequencies\n",
    "\n",
    "Given an input text file, record the *Count/Frequency* of all words longer than 3 characters in a Dictionary `{word: count}`, and sort it by Count/Frequency.    "
   ]
  },
  {
   "cell_type": "code",
   "execution_count": null,
   "metadata": {},
   "outputs": [],
   "source": []
  },
  {
   "cell_type": "code",
   "execution_count": null,
   "metadata": {},
   "outputs": [],
   "source": []
  },
  {
   "cell_type": "markdown",
   "metadata": {},
   "source": [
    "## Spell Checker\n",
    "\n",
    "Given a string as User input, and a text file with English dictionary words, output all words in the input text string that are *mis-spelt* according to the dictionary.    "
   ]
  },
  {
   "cell_type": "code",
   "execution_count": null,
   "metadata": {},
   "outputs": [],
   "source": []
  },
  {
   "cell_type": "code",
   "execution_count": null,
   "metadata": {},
   "outputs": [],
   "source": []
  },
  {
   "cell_type": "markdown",
   "metadata": {},
   "source": [
    "## Spelling Suggestions\n",
    "\n",
    "Given a word as User input, and a text file with English dictionary words, output top 5 dictionary words as *auto-correct* suggestions if the input is mis-spelt.    "
   ]
  },
  {
   "cell_type": "code",
   "execution_count": null,
   "metadata": {},
   "outputs": [],
   "source": []
  },
  {
   "cell_type": "code",
   "execution_count": null,
   "metadata": {},
   "outputs": [],
   "source": []
  },
  {
   "cell_type": "markdown",
   "metadata": {},
   "source": [
    "#### More problems to come ..."
   ]
  },
  {
   "cell_type": "code",
   "execution_count": null,
   "metadata": {},
   "outputs": [],
   "source": []
  }
 ],
 "metadata": {
  "kernelspec": {
   "display_name": "Python 3",
   "language": "python",
   "name": "python3"
  },
  "language_info": {
   "codemirror_mode": {
    "name": "ipython",
    "version": 3
   },
   "file_extension": ".py",
   "mimetype": "text/x-python",
   "name": "python",
   "nbconvert_exporter": "python",
   "pygments_lexer": "ipython3",
   "version": "3.7.5"
  }
 },
 "nbformat": 4,
 "nbformat_minor": 2
}
